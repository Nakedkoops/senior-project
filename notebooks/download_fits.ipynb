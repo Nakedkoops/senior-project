{
 "cells": [
  {
   "cell_type": "code",
   "execution_count": 1,
   "metadata": {},
   "outputs": [],
   "source": [
    "import csv\n",
    "import io\n",
    "from multiprocessing.pool import ThreadPool\n",
    "\n",
    "from astropy.table import Table\n",
    "from astropy.io import fits\n",
    "import requests"
   ]
  },
  {
   "cell_type": "code",
   "execution_count": 2,
   "metadata": {},
   "outputs": [],
   "source": [
    "def process_fits_file(url: str) -> tuple[int, int]:\n",
    "    \"\"\"Download FITS file from URL and remove unnecessary tables/columns.\n",
    "    \n",
    "    Returns\n",
    "    -------\n",
    "        2-tuple containing the original and final file sizes in bytes\n",
    "    \"\"\"\n",
    "    # We could just pass the `url` directly to `fits.open`, but we're also\n",
    "    # curious to see the original file size which isn't exposed by astropy\n",
    "    with requests.get(url) as resp:\n",
    "        original_size = int(resp.headers[\"content-length\"])\n",
    "        file = io.BytesIO(resp.content)\n",
    "\n",
    "    with fits.open(file) as hdul:\n",
    "        table = Table.read(hdul[\"COADD\"])\n",
    "        # Remove all other unnecessary columns\n",
    "        table.keep_columns([\"flux\", \"model\"])\n",
    "\n",
    "    final_size = fits.table_to_hdu(table).filebytes()\n",
    "\n",
    "    return original_size, final_size\n"
   ]
  },
  {
   "cell_type": "code",
   "execution_count": 3,
   "metadata": {},
   "outputs": [],
   "source": [
    "with open(\"./skyserver-dump.csv\", newline=\"\") as f:\n",
    "    reader = csv.DictReader(f)\n",
    "    urls = [row[\"url\"] for row in reader]\n",
    "\n",
    "# Create a thread pool so we aren't waiting for every single file to download\n",
    "sizes = ThreadPool(10).imap_unordered(process_fits_file, urls)\n",
    "\n",
    "original_size, final_size = tuple(sum(s) for s in zip(*sizes))"
   ]
  },
  {
   "cell_type": "code",
   "execution_count": 4,
   "metadata": {},
   "outputs": [
    {
     "name": "stdout",
     "output_type": "stream",
     "text": [
      "  Original: 21.89 mb\n",
      "Compressed:  4.03 mb\n",
      "     Ratio:  5.43 x\n"
     ]
    }
   ],
   "source": [
    "print(f\"  Original: {original_size / 1e6:>5.2f} mb\")\n",
    "print(f\"Compressed: {final_size / 1e6:>5.2f} mb\")\n",
    "print(f\"     Ratio: {original_size / final_size:>5.2f} x\")"
   ]
  }
 ],
 "metadata": {
  "kernelspec": {
   "display_name": "Python 3",
   "language": "python",
   "name": "python3"
  },
  "language_info": {
   "codemirror_mode": {
    "name": "ipython",
    "version": 3
   },
   "file_extension": ".py",
   "mimetype": "text/x-python",
   "name": "python",
   "nbconvert_exporter": "python",
   "pygments_lexer": "ipython3",
   "version": "3.13.0"
  }
 },
 "nbformat": 4,
 "nbformat_minor": 2
}
